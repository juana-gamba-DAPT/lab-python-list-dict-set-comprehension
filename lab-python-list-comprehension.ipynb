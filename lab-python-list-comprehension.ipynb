{
 "cells": [
  {
   "cell_type": "markdown",
   "id": "25d7736c-ba17-4aff-b6bb-66eba20fbf4e",
   "metadata": {},
   "source": [
    "# Lab | List, Dict and Set Comprehension"
   ]
  },
  {
   "cell_type": "markdown",
   "id": "7dd3cbde-675a-4b81-92c3-f728846dbe06",
   "metadata": {},
   "source": [
    "## Exercise: Managing Customer Orders Optimized with Comprehension"
   ]
  },
  {
   "cell_type": "markdown",
   "id": "5d500160-2fb7-4777-b5e4-09d45ebaf328",
   "metadata": {},
   "source": [
    "In the previous exercise, you developed a program to manage customer orders and inventory. Now, let's take it a step further and incorporate comprehension into your code.\n",
    "\n",
    "Follow the steps below to complete the exercise:\n",
    "\n",
    "1. Review your code from the previous exercise and identify areas where you can apply comprehension to simplify and streamline your code. \n",
    "\n",
    "    - *Hint: Apply it to initialize inventory, updating the inventory and printing the updated inventory.*\n",
    "    \n",
    "    - For example, in initializing the inventory, we could have:\n",
    "    \n",
    "        ```python\n",
    "        def initialize_inventory(products):\n",
    "            inventory = {product: int(input(f\"Enter the quantity of {product}s available: \")) for product in products}\n",
    "            return inventory\n",
    "\n",
    "        ```\n",
    "\n",
    "    inicial\n",
    "    #def initialize_inventory(products):\n",
    "    #for product in products:\n",
    "     #   quantity=int(input(f\"insert the quantity of {product}: \"))\n",
    "     #   inventory[product]=quantity\n",
    "\n",
    "    return inventory\n",
    "\n",
    "inventory = initialize_inventory(products)\n",
    "print(inventory)\n",
    "    \n",
    "2. Modify the function get_customer_orders so it prompts the user to enter the number of customer orders and gathers the product names using a loop and user input. Use comprehension.\n",
    "\n",
    "3. Add a new function to calculate the total price of the customer order. For each product in customer_orders, prompt the user to enter the price of that product. Use comprehension to calculate the total price. Note: assume that the user can only have 1 unit of each product.\n",
    "\n",
    "4. Modify the update_inventory function to remove the product from the inventory if its quantity becomes zero after fulfilling the customer orders. Use comprehension to filter out the products with a quantity of zero from the inventory.\n",
    "\n",
    "5. Print the total price of the customer order.\n",
    "\n",
    "Your code should produce output similar to the following:\n",
    "\n",
    "```python\n",
    "Enter the quantity of t-shirts available:  5\n",
    "Enter the quantity of mugs available:  4\n",
    "Enter the quantity of hats available:  3\n",
    "Enter the quantity of books available:  2\n",
    "Enter the quantity of keychains available:  1\n",
    "Enter the number of customer orders:  2\n",
    "Enter the name of a product that a customer wants to order:  hat\n",
    "Enter the name of a product that a customer wants to order:  keychain\n",
    "\n",
    "Order Statistics:\n",
    "Total Products Ordered: 2\n",
    "Percentage of Unique Products Ordered: 40.0\n",
    "\n",
    "Updated Inventory:\n",
    "t-shirt: 5\n",
    "mug: 4\n",
    "hat: 2\n",
    "book: 2\n",
    "Enter the price of keychain:  5\n",
    "Enter the price of hat:  10\n",
    "Total Price: 15.0\n",
    "\n",
    "```\n"
   ]
  },
  {
   "cell_type": "code",
   "execution_count": 42,
   "id": "b7c257fd",
   "metadata": {},
   "outputs": [],
   "source": [
    "products=[\"t-shirt\", \"mug\", \"hat\", \"book\", \"keychain\"]\n",
    "\n",
    "def initialize_inventory(products):\n",
    "    inventory = {product: int(input(f\"Enter the quantity of {product}s available: \")) for product in products}\n",
    "    return inventory\n",
    "\n",
    "inventory = initialize_inventory(products)"
   ]
  },
  {
   "cell_type": "code",
   "execution_count": 43,
   "id": "681e80b8",
   "metadata": {},
   "outputs": [
    {
     "name": "stdout",
     "output_type": "stream",
     "text": [
      "['hat', 'hat']\n"
     ]
    }
   ],
   "source": [
    "#2. Modify the function get_customer_orders so it prompts the user to enter the number of customer orders\n",
    "# and gathers the product names using a loop and user input. Use comprehension.\n",
    "'''original\n",
    "def get_customer_orders():\n",
    "    customer_orders = set()\n",
    "    while True:\n",
    "        order = input(\"Enter a product to order: \").lower()\n",
    "        customer_orders.add(order)\n",
    "\n",
    "        more = input(\"Do you want to add another product? (yes/no): \").lower()\n",
    "        if more == \"no\":\n",
    "            break  \n",
    "\n",
    "    return customer_orders'''\n",
    "\n",
    "'''ahora convertirlo a for\n",
    "customer_orders=set()\n",
    "def get_customer_orders():\n",
    "    n=int(input(\"how many orders you want to take?\"))\n",
    "    for order in range(n):\n",
    "        order = input(\"Enter a product to order: \").lower()\n",
    "        customer_orders.add(order)\n",
    "\n",
    "    return (customer_orders)'''\n",
    "\n",
    "#{expresión for variable in iterable}\n",
    "def get_customer_orders():\n",
    "    n = int(input(\"How many orders do you want to take? \"))\n",
    "    customer_orders = [input(\"Enter a product to order: \").lower() for order in range(n)]\n",
    "    print(customer_orders)\n",
    "    return customer_orders\n",
    "\n",
    "# Obtener las ordenes \n",
    "customer_orders = get_customer_orders()\n"
   ]
  },
  {
   "cell_type": "code",
   "execution_count": 44,
   "id": "8fa1ec45",
   "metadata": {},
   "outputs": [
    {
     "name": "stdout",
     "output_type": "stream",
     "text": [
      "Unit prices: {'hat': 2}\n",
      "Total price: 2\n"
     ]
    }
   ],
   "source": [
    "'''3. Add a new function to calculate the total price of the customer order. \n",
    "For each product in customer_orders, prompt the user to enter the price of that product. \n",
    "Use comprehension to calculate the total price.\n",
    "Note: assume that the user can only have 1 unit of each product.'''\n",
    "\n",
    "def calculate_total_price(customer_orders):\n",
    "    unit_price = {product: int(input(f\"Please insert the unit price of the {product} in integer: \")) for product in customer_orders}\n",
    "    print(f\"Unit prices: {unit_price}\")\n",
    "    total_price = sum(unit_price.values())\n",
    "    return total_price\n",
    "\n",
    "# Calcular el precio total\n",
    "total = calculate_total_price(customer_orders)\n",
    "print(f\"Total price: {total}\")\n",
    "\n"
   ]
  },
  {
   "cell_type": "code",
   "execution_count": 46,
   "id": "16f79b6d",
   "metadata": {},
   "outputs": [
    {
     "name": "stdout",
     "output_type": "stream",
     "text": [
      "hat is out of stock.\n",
      "hat is out of stock.\n",
      "t-shirt: 2\n",
      "mug: 2\n",
      "book: 2\n",
      "keychain: 2\n",
      "Updated inventory: {'t-shirt': 2, 'mug': 2, 'book': 2, 'keychain': 2}\n"
     ]
    }
   ],
   "source": [
    "'''4. Modify the update_inventory function to remove the product from the inventory if its quantity becomes zero\n",
    " after fulfilling the customer orders. Use comprehension to filter out the products with a quantity of zero from the inventory.'''\n",
    "\n",
    "def update_inventory(customer_orders, inventory):\n",
    "    for product in customer_orders:\n",
    "        if product in inventory:\n",
    "            if inventory[product] > 0:\n",
    "                inventory[product] -= 1\n",
    "            else:\n",
    "                print(f\"{product} is out of stock.\")\n",
    "        else:\n",
    "            print(f\"Try with an existent product: {product}\")\n",
    "    \n",
    "    # Eliminar productos con cantidad 0 \n",
    "    inventory = {product: quantity for product, quantity in inventory.items() if quantity > 0}\n",
    "    \n",
    "    # inventario actualizado\n",
    "    for product in inventory:\n",
    "        print(f\"{product}: {inventory[product]}\")\n",
    "    \n",
    "    return inventory\n",
    "\n",
    "# Actualizar inventario\n",
    "updated_inventory = update_inventory(customer_orders, inventory)\n",
    "print(\"Updated inventory:\", updated_inventory)\n"
   ]
  },
  {
   "cell_type": "code",
   "execution_count": 47,
   "id": "f0001485",
   "metadata": {},
   "outputs": [
    {
     "name": "stdout",
     "output_type": "stream",
     "text": [
      "Total price: 2\n"
     ]
    }
   ],
   "source": [
    "#5. Print the total price of the customer order.\n",
    "print(f\"Total price: {total}\")\n",
    "\n"
   ]
  }
 ],
 "metadata": {
  "kernelspec": {
   "display_name": "venv",
   "language": "python",
   "name": "python3"
  },
  "language_info": {
   "codemirror_mode": {
    "name": "ipython",
    "version": 3
   },
   "file_extension": ".py",
   "mimetype": "text/x-python",
   "name": "python",
   "nbconvert_exporter": "python",
   "pygments_lexer": "ipython3",
   "version": "3.12.9"
  }
 },
 "nbformat": 4,
 "nbformat_minor": 5
}
